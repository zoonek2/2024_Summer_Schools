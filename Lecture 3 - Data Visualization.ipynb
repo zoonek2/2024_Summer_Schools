{
 "cells": [
  {
   "cell_type": "code",
   "execution_count": null,
   "id": "64f2d006-bec9-4f0e-b995-e364cfb7920b",
   "metadata": {},
   "outputs": [],
   "source": [
    "! git clone https://github.com/zoonek2/2024_Summer_Schools\n",
    "! ln -s 2024_Summer_Schools/data .\n",
    "! pip install pydataset gapminder palmerpenguins\n",
    "import nltk\n",
    "nltk.download('punkt')"
   ]
  },
  {
   "cell_type": "code",
   "execution_count": null,
   "id": "d39b82cf-a7ca-43b8-af1d-71fdb6a5e43a",
   "metadata": {},
   "outputs": [],
   "source": [
    "import numpy as np\n",
    "import pandas as pd\n",
    "import matplotlib.pyplot as plt\n",
    "import seaborn as sns\n",
    "\n",
    "import re\n",
    "import requests\n",
    "import nltk\n",
    "import yfinance as yf\n",
    "from pydataset import data\n",
    "from sklearn.datasets import fetch_california_housing\n",
    "from gapminder import gapminder\n",
    "from pandas_datareader import wb\n",
    "from palmerpenguins import load_penguins"
   ]
  },
  {
   "cell_type": "markdown",
   "id": "c81cf76a-8be3-4bd0-b4c3-136a5d01d08f",
   "metadata": {},
   "source": [
    "# Univariate data\n",
    "\n",
    "For each dataset: \n",
    "\n",
    "- Compute the numeric summary:\n",
    "    - Type\n",
    "    - Number of observations\n",
    "    - Number of missing observations\n",
    "    - Minimum, maximum\n",
    "    - Mean, median, mode\n",
    "    - Standard deviation\n",
    "    - Skewness, Kurtosis\n",
    "    - First and third quartiles, inter-quartile range\n",
    "\n",
    "- Plot a boxplot\n",
    "- Plot a histogram (with a linear scale)\n",
    "- Plot a histogram with a logarithmic scale\n",
    "- Plot the density of the data\n",
    "- ~Plot the theoretical quantiles vs the sample ones~\n",
    "\n",
    "Which of the problems mentioned above are present?\n",
    "- Data types\n",
    "- Missing values\n",
    "- Magic numbers\n",
    "- Zero inflation\n",
    "- Outliers\n",
    "- Fat tails\n",
    "- Skewness\n",
    "- Multimodality"
   ]
  },
  {
   "cell_type": "markdown",
   "id": "1a28ed8c-d8c0-4e0f-85bf-fa5d3db43d81",
   "metadata": {},
   "source": [
    "## Old faithful geyser inter-erruption times"
   ]
  },
  {
   "cell_type": "code",
   "execution_count": null,
   "id": "17032001-e77e-4151-9fdd-398a36e31f14",
   "metadata": {},
   "outputs": [],
   "source": [
    "x = data(\"faithful\").iloc[:,1]\n",
    "x.head()"
   ]
  },
  {
   "cell_type": "code",
   "execution_count": null,
   "id": "d75de5e4-d254-44d7-a61a-9c50e7d704d4",
   "metadata": {},
   "outputs": [],
   "source": [
    "## INSERT YOUR CODE HERE"
   ]
  },
  {
   "cell_type": "markdown",
   "id": "c953764b-7fb5-4c25-a0df-caacd609b279",
   "metadata": {},
   "source": [
    "## Daily asset returns"
   ]
  },
  {
   "cell_type": "code",
   "execution_count": null,
   "id": "2f939470-3df5-49ee-aa51-5b69b7ff55f9",
   "metadata": {},
   "outputs": [],
   "source": [
    "x = yf.Ticker(\"^GSPC\").history(period=\"max\")['Close']\n",
    "x = np.log(x).diff().dropna()\n",
    "x.head()"
   ]
  },
  {
   "cell_type": "code",
   "execution_count": null,
   "id": "dc44abc2-6a2a-487f-85da-b159f329061f",
   "metadata": {},
   "outputs": [],
   "source": [
    "## INSERT YOUR CODE HERE"
   ]
  },
  {
   "cell_type": "markdown",
   "id": "543ad7db-20d9-4337-91af-54f9b65a3c1d",
   "metadata": {},
   "source": [
    "# Bivariate data\n",
    "\n",
    "For each dataset: \n",
    "- Compute the univariate summaries of the two variables\n",
    "- Compute their correlation\n",
    "- Generate a scatter plot\n",
    "- Fit a straight line through the data\n",
    "- Fit a curved line through the data\n",
    "- Cluster the data"
   ]
  },
  {
   "cell_type": "markdown",
   "id": "ccfa6ab2-d2d3-46d0-9ec3-3c043f6171bc",
   "metadata": {},
   "source": [
    "## Earthquakes"
   ]
  },
  {
   "cell_type": "code",
   "execution_count": null,
   "id": "130f8198-a5c3-4aab-9067-2a0b4bcd8bbc",
   "metadata": {},
   "outputs": [],
   "source": [
    "d = data('quakes').iloc[:,:2].iloc[:,::-1]\n",
    "d.head()"
   ]
  },
  {
   "cell_type": "code",
   "execution_count": null,
   "id": "7813f80d-d84e-4932-911e-1fd4f0c7a037",
   "metadata": {},
   "outputs": [],
   "source": [
    "## INSERT YOUR CODE HERE"
   ]
  },
  {
   "cell_type": "markdown",
   "id": "38ae0785-9562-4955-913d-72b44023ae2f",
   "metadata": {},
   "source": [
    "## House prices (*)\n",
    "For this dataset, you may want to somewhat clean the data to have a nicer plot."
   ]
  },
  {
   "cell_type": "code",
   "execution_count": null,
   "id": "2b199f46-d8ff-4eb0-8518-c86e4aba8399",
   "metadata": {},
   "outputs": [],
   "source": [
    "try: \n",
    "    # This often fails when run from Google Colab.\n",
    "    housing = fetch_california_housing()\n",
    "    print( housing['DESCR'] )\n",
    "    d = pd.DataFrame( \n",
    "        housing['data'],\n",
    "        columns = housing['feature_names'],\n",
    "    )\n",
    "    d[ housing['target_names'][0] ] = housing['target']\n",
    "except: \n",
    "    # Use a local copy of the file instead\n",
    "    d = pd.read_csv( \"data/california_housing.csv\" )\n",
    "    \n",
    "d = d[['AveRooms','MedHouseVal']]\n",
    "d.head()"
   ]
  },
  {
   "cell_type": "code",
   "execution_count": null,
   "id": "aecff339-b931-4608-ab44-8588673b5cbe",
   "metadata": {},
   "outputs": [],
   "source": [
    "## INSERT YOUR CODE HERE"
   ]
  },
  {
   "cell_type": "markdown",
   "id": "fa47cf15-afc6-4b13-9c80-27efc5cfe9b8",
   "metadata": {},
   "source": [
    "# Qualitative data"
   ]
  },
  {
   "cell_type": "markdown",
   "id": "cb4d87cb-50eb-460e-b382-cdc815bf79ca",
   "metadata": {},
   "source": [
    "## Penguins\n",
    "\n",
    "Plot the distribution of penguin species from the Palmer study."
   ]
  },
  {
   "cell_type": "code",
   "execution_count": null,
   "id": "f7f4db25-541d-4aa0-9884-40901151b9ce",
   "metadata": {},
   "outputs": [],
   "source": [
    "x = load_penguins()['species']\n",
    "i = np.random.choice( len(x), len(x), replace = False )\n",
    "x = pd.Series( x.values[i] )\n",
    "x"
   ]
  },
  {
   "cell_type": "code",
   "execution_count": null,
   "id": "181c4975-741d-476b-ac6f-436376a8849c",
   "metadata": {},
   "outputs": [],
   "source": [
    "## INSERT YOUR CODE HERE"
   ]
  },
  {
   "cell_type": "markdown",
   "id": "16199969-ed16-4438-88a0-1fb688b4e85b",
   "metadata": {},
   "source": [
    "## Novels (*) \n",
    "\n",
    "Find interesting visualizations of the following datasets (words in a few novels or plays)"
   ]
  },
  {
   "cell_type": "code",
   "execution_count": null,
   "id": "0174fe3a-e584-47fa-8de9-b3d481eec55d",
   "metadata": {},
   "outputs": [],
   "source": [
    "ids = {\n",
    "    'The Great Gatsby':                 64317,\n",
    "    \"Alice's Adventures in Wonderland\":    11,\n",
    "    'Romeo and Juliet':                  1513,\n",
    "    'A tale of two cities':                98,\n",
    "    'Winnie the Pooh':                  67098,\n",
    "}\n",
    "\n",
    "def remove_legalese(text):\n",
    "    text = text.split(\"\\n\")\n",
    "    i1 = np.argwhere( np.array( [ u.startswith( '*** START' ) for u in text ] ) )[0,0]\n",
    "    i2 = np.argwhere( np.array( [ u.startswith( '*** END' ) for u in text ] ) )[0,0]\n",
    "    text = text[i1+1:i2]\n",
    "    text = '\\n'.join(text)\n",
    "    return text\n",
    "\n",
    "def tokenize(text):\n",
    "    text = text.lower()\n",
    "    text = re.sub(r\"[^\\w\\s]\", \"\", text)\n",
    "    text = nltk.word_tokenize(text)\n",
    "    text = np.array( text )\n",
    "    return text\n",
    "\n",
    "raw_texts = {}\n",
    "for title, id in ids.items():\n",
    "    url = f'https://www.gutenberg.org/cache/epub/{id}/pg{id}.txt'\n",
    "    print( f\"{id} {title} {url}\" )\n",
    "    r = requests.get(url)\n",
    "    raw_texts[ title ] = r.text \n",
    "\n",
    "texts = { title: remove_legalese( text ) for title, text in raw_texts.items() }\n",
    "texts = { title: tokenize       ( text ) for title, text in     texts.items() }\n",
    "\n",
    "texts"
   ]
  },
  {
   "cell_type": "code",
   "execution_count": null,
   "id": "05cc2f8a-7135-47d3-84c0-a9588818cc72",
   "metadata": {},
   "outputs": [],
   "source": [
    "## INSERT YOUR CODE HERE"
   ]
  },
  {
   "cell_type": "markdown",
   "id": "1ab3da3e-462e-4505-b4b9-7c2405f3c268",
   "metadata": {},
   "source": [
    "# Time series (*)\n",
    "\n",
    "If we had time to cover time series in the lecture: \n",
    "- Plot the following time series\n",
    "- Are there data issues?\n",
    "- Are there seasonal patterns? With which period?\n",
    "\n",
    "Hint: You can use `statsmodels.tsa.stattools.acf` to compute the auto-correlation."
   ]
  },
  {
   "cell_type": "code",
   "execution_count": null,
   "id": "2e6d8b91-d9ff-4755-8813-8f2e31b0143f",
   "metadata": {},
   "outputs": [],
   "source": [
    "x = data(\"sunspots\").set_index(\"time\")\n",
    "x.head()"
   ]
  },
  {
   "cell_type": "code",
   "execution_count": null,
   "id": "1fd6abe8-4989-4385-9ace-be600e3b7877",
   "metadata": {},
   "outputs": [],
   "source": [
    "## INSERT YOUR CODE HERE"
   ]
  },
  {
   "cell_type": "markdown",
   "id": "a639c925-adb0-4860-889c-edfb09c66cec",
   "metadata": {},
   "source": [
    "# Multivariate data\n",
    "\n",
    "Find interesting visualizations for the following datasets."
   ]
  },
  {
   "cell_type": "markdown",
   "id": "3223e665-9223-4e4f-adf8-3ea7f89e46f7",
   "metadata": {},
   "source": [
    "## Gapminder"
   ]
  },
  {
   "cell_type": "code",
   "execution_count": null,
   "id": "82d09051-4ecf-48d5-91ff-045ddfec8c7c",
   "metadata": {},
   "outputs": [],
   "source": [
    "d = gapminder.copy()\n",
    "d.head()"
   ]
  },
  {
   "cell_type": "code",
   "execution_count": null,
   "id": "576dc3bf-cc97-4df0-8e96-b3fc51f66402",
   "metadata": {},
   "outputs": [],
   "source": [
    "## INSERT YOUR CODE HERE"
   ]
  },
  {
   "cell_type": "markdown",
   "id": "9a4a72d0-2f8e-461e-9972-c2b843219c73",
   "metadata": {},
   "source": [
    "## Penguins (*)"
   ]
  },
  {
   "cell_type": "code",
   "execution_count": null,
   "id": "df803e2a-8e99-4b16-ab63-46c31a4254db",
   "metadata": {},
   "outputs": [],
   "source": [
    "d = load_penguins()\n",
    "d.head()"
   ]
  },
  {
   "cell_type": "code",
   "execution_count": null,
   "id": "2d00890e-0488-4ac4-ae9b-788fe38ebc4e",
   "metadata": {},
   "outputs": [],
   "source": [
    "## INSERT YOUR CODE HERE"
   ]
  },
  {
   "cell_type": "markdown",
   "id": "e49f9f29-7531-41d1-8a00-5ff1155fe241",
   "metadata": {},
   "source": [
    "# Panel data (*)\n",
    "Find interesting visualizations of the following dataset"
   ]
  },
  {
   "cell_type": "code",
   "execution_count": null,
   "id": "f09a9a0a-137c-4e58-b80f-2e50ab4264ee",
   "metadata": {},
   "outputs": [],
   "source": [
    "# World development indicators\n",
    "d = wb.download(indicator='NY.GDP.MKTP.CD', country=['all'], start=1950, end=2023)\n",
    "d = d.reset_index().pivot( index = 'country', columns = 'year', values = 'NY.GDP.MKTP.CD' )\n",
    "d.head()"
   ]
  },
  {
   "cell_type": "code",
   "execution_count": null,
   "id": "dcd41573-f68d-4cb4-8dd3-0aae3c811181",
   "metadata": {},
   "outputs": [],
   "source": [
    "## INSERT YOUR CODE HERE"
   ]
  },
  {
   "cell_type": "markdown",
   "id": "9d809936-0d46-481e-8a88-ce289ccffb75",
   "metadata": {},
   "source": [
    "# Automated / interactive EDA\n",
    "Examine one of the datasets above with `ydata_profiling`. Is there anything we have overlooked?"
   ]
  },
  {
   "cell_type": "code",
   "execution_count": null,
   "id": "02ac04bb-4f78-4887-8673-3faad34c9298",
   "metadata": {},
   "outputs": [],
   "source": [
    "## INSERT YOUR CODE HERE"
   ]
  }
 ],
 "metadata": {
  "kernelspec": {
   "display_name": "constrained_regression",
   "language": "python",
   "name": "constrained_regression"
  },
  "language_info": {
   "codemirror_mode": {
    "name": "ipython",
    "version": 3
   },
   "file_extension": ".py",
   "mimetype": "text/x-python",
   "name": "python",
   "nbconvert_exporter": "python",
   "pygments_lexer": "ipython3",
   "version": "3.9.7"
  }
 },
 "nbformat": 4,
 "nbformat_minor": 5
}
