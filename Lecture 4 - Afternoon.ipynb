{
 "cells": [
  {
   "cell_type": "code",
   "execution_count": null,
   "id": "c197c1d1-d7d3-4ce0-9a17-e704566ba793",
   "metadata": {},
   "outputs": [],
   "source": [
    "! pip install pydataset palmerpenguins"
   ]
  },
  {
   "cell_type": "markdown",
   "id": "6b966f65-6646-41ae-afbe-0391fac62bf7",
   "metadata": {},
   "source": [
    "# Palmer penguins\n",
    "Fit all the models you have seen on the following data"
   ]
  },
  {
   "cell_type": "code",
   "execution_count": null,
   "id": "5abb6cc5-1cd0-4f97-bc4a-348ca2b7fb3d",
   "metadata": {},
   "outputs": [],
   "source": [
    "from palmerpenguins import load_penguins\n",
    "d = load_penguins().dropna()\n",
    "y = d['species']\n",
    "X = d[['bill_length_mm', 'bill_depth_mm', 'flipper_length_mm', 'body_mass_g']]\n",
    "print( \"Target (y):\" )\n",
    "display(y)\n",
    "print( \"\\nPredictors (X):\" )\n",
    "display(X)"
   ]
  },
  {
   "cell_type": "code",
   "execution_count": null,
   "id": "0b75c9ef-d2d2-474f-ac65-d273788aaf78",
   "metadata": {},
   "outputs": [],
   "source": [
    "## INSERT YOUR CODE HERE"
   ]
  },
  {
   "cell_type": "markdown",
   "id": "cc49aeb9-8a66-4d37-ab23-e81f5c67e065",
   "metadata": {},
   "source": [
    "# California Housing\n",
    "Fit all the models you have seen on the following data"
   ]
  },
  {
   "cell_type": "code",
   "execution_count": null,
   "id": "27eba936-67fb-4c57-a6aa-e66276aa3a36",
   "metadata": {},
   "outputs": [],
   "source": [
    "import sklearn.datasets\n",
    "X, y = sklearn.datasets.fetch_california_housing( return_X_y = True, as_frame = True )\n",
    "print( \"Target (y):\" )\n",
    "display(y)\n",
    "print( \"\\nPredictors (X):\" )\n",
    "display(X)"
   ]
  },
  {
   "cell_type": "code",
   "execution_count": null,
   "id": "435c0867-07df-4d54-80de-a652ca9022f4",
   "metadata": {},
   "outputs": [],
   "source": [
    "## INSERT YOUR CODE HERE"
   ]
  }
 ],
 "metadata": {
  "kernelspec": {
   "display_name": "constrained_regression",
   "language": "python",
   "name": "constrained_regression"
  },
  "language_info": {
   "codemirror_mode": {
    "name": "ipython",
    "version": 3
   },
   "file_extension": ".py",
   "mimetype": "text/x-python",
   "name": "python",
   "nbconvert_exporter": "python",
   "pygments_lexer": "ipython3",
   "version": "3.9.7"
  }
 },
 "nbformat": 4,
 "nbformat_minor": 5
}
